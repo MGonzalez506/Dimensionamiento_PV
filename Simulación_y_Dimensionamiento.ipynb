{
  "nbformat": 4,
  "nbformat_minor": 0,
  "metadata": {
    "colab": {
      "name": "Simulación_y_Dimensionamiento.ipynb",
      "provenance": [],
      "collapsed_sections": [],
      "authorship_tag": "ABX9TyPA0nkVPp3dfyGYJWSfRXYh",
      "include_colab_link": true
    },
    "kernelspec": {
      "name": "python3",
      "display_name": "Python 3"
    },
    "language_info": {
      "name": "python"
    }
  },
  "cells": [
    {
      "cell_type": "markdown",
      "metadata": {
        "id": "view-in-github",
        "colab_type": "text"
      },
      "source": [
        "<a href=\"https://colab.research.google.com/github/MGonzalez506/Dimensionamiento_PV/blob/10-limpiar-un-poco-el-c%C3%B3digo-y-mejorar-rendimiento/Simulaci%C3%B3n_y_Dimensionamiento.ipynb\" target=\"_parent\"><img src=\"https://colab.research.google.com/assets/colab-badge.svg\" alt=\"Open In Colab\"/></a>"
      ]
    },
    {
      "cell_type": "markdown",
      "source": [
        "##Taller PVLIB"
      ],
      "metadata": {
        "id": "NVhp45XNLvcV"
      }
    },
    {
      "cell_type": "code",
      "source": [
        "!pip install pvlib\n",
        "!pip install rdtools"
      ],
      "metadata": {
        "id": "bb6vVVLxL6uC",
        "outputId": "1ccbe979-646e-4613-f6dd-2217a9d6631e",
        "colab": {
          "base_uri": "https://localhost:8080/"
        }
      },
      "execution_count": 2,
      "outputs": [
        {
          "output_type": "stream",
          "name": "stdout",
          "text": [
            "Collecting pvlib\n",
            "  Downloading pvlib-0.9.1-py3-none-any.whl (27.6 MB)\n",
            "\u001b[K     |████████████████████████████████| 27.6 MB 77.7 MB/s \n",
            "\u001b[?25hRequirement already satisfied: pytz in /usr/local/lib/python3.7/dist-packages (from pvlib) (2022.1)\n",
            "Requirement already satisfied: scipy>=1.2.0 in /usr/local/lib/python3.7/dist-packages (from pvlib) (1.4.1)\n",
            "Requirement already satisfied: requests in /usr/local/lib/python3.7/dist-packages (from pvlib) (2.23.0)\n",
            "Requirement already satisfied: numpy>=1.16.0 in /usr/local/lib/python3.7/dist-packages (from pvlib) (1.21.6)\n",
            "Requirement already satisfied: pandas>=0.22.0 in /usr/local/lib/python3.7/dist-packages (from pvlib) (1.3.5)\n",
            "Requirement already satisfied: h5py in /usr/local/lib/python3.7/dist-packages (from pvlib) (3.1.0)\n",
            "Requirement already satisfied: python-dateutil>=2.7.3 in /usr/local/lib/python3.7/dist-packages (from pandas>=0.22.0->pvlib) (2.8.2)\n",
            "Requirement already satisfied: six>=1.5 in /usr/local/lib/python3.7/dist-packages (from python-dateutil>=2.7.3->pandas>=0.22.0->pvlib) (1.15.0)\n",
            "Requirement already satisfied: cached-property in /usr/local/lib/python3.7/dist-packages (from h5py->pvlib) (1.5.2)\n",
            "Requirement already satisfied: idna<3,>=2.5 in /usr/local/lib/python3.7/dist-packages (from requests->pvlib) (2.10)\n",
            "Requirement already satisfied: chardet<4,>=3.0.2 in /usr/local/lib/python3.7/dist-packages (from requests->pvlib) (3.0.4)\n",
            "Requirement already satisfied: urllib3!=1.25.0,!=1.25.1,<1.26,>=1.21.1 in /usr/local/lib/python3.7/dist-packages (from requests->pvlib) (1.24.3)\n",
            "Requirement already satisfied: certifi>=2017.4.17 in /usr/local/lib/python3.7/dist-packages (from requests->pvlib) (2021.10.8)\n",
            "Installing collected packages: pvlib\n",
            "Successfully installed pvlib-0.9.1\n",
            "Collecting rdtools\n",
            "  Downloading rdtools-2.1.3-py2.py3-none-any.whl (947 kB)\n",
            "\u001b[K     |████████████████████████████████| 947 kB 5.0 MB/s \n",
            "\u001b[?25hRequirement already satisfied: pandas!=0.24.0,!=1.0.0,!=1.0.1,>=0.23.2 in /usr/local/lib/python3.7/dist-packages (from rdtools) (1.3.5)\n",
            "Requirement already satisfied: matplotlib>=3.0.0 in /usr/local/lib/python3.7/dist-packages (from rdtools) (3.2.2)\n",
            "Requirement already satisfied: numpy>=1.15 in /usr/local/lib/python3.7/dist-packages (from rdtools) (1.21.6)\n",
            "Requirement already satisfied: pvlib<0.10.0,>=0.7.0 in /usr/local/lib/python3.7/dist-packages (from rdtools) (0.9.1)\n",
            "Requirement already satisfied: h5py>=2.8.0 in /usr/local/lib/python3.7/dist-packages (from rdtools) (3.1.0)\n",
            "Requirement already satisfied: statsmodels>=0.9.0 in /usr/local/lib/python3.7/dist-packages (from rdtools) (0.10.2)\n",
            "Requirement already satisfied: plotly>=4.0.0 in /usr/local/lib/python3.7/dist-packages (from rdtools) (5.5.0)\n",
            "Collecting xgboost>=1.3.3\n",
            "  Downloading xgboost-1.6.1-py3-none-manylinux2014_x86_64.whl (192.9 MB)\n",
            "\u001b[K     |████████████████████████████████| 192.9 MB 63 kB/s \n",
            "\u001b[?25hRequirement already satisfied: scipy>=1.1.0 in /usr/local/lib/python3.7/dist-packages (from rdtools) (1.4.1)\n",
            "Requirement already satisfied: scikit-learn>=0.22.0 in /usr/local/lib/python3.7/dist-packages (from rdtools) (1.0.2)\n",
            "Requirement already satisfied: cached-property in /usr/local/lib/python3.7/dist-packages (from h5py>=2.8.0->rdtools) (1.5.2)\n",
            "Requirement already satisfied: pyparsing!=2.0.4,!=2.1.2,!=2.1.6,>=2.0.1 in /usr/local/lib/python3.7/dist-packages (from matplotlib>=3.0.0->rdtools) (3.0.8)\n",
            "Requirement already satisfied: cycler>=0.10 in /usr/local/lib/python3.7/dist-packages (from matplotlib>=3.0.0->rdtools) (0.11.0)\n",
            "Requirement already satisfied: kiwisolver>=1.0.1 in /usr/local/lib/python3.7/dist-packages (from matplotlib>=3.0.0->rdtools) (1.4.2)\n",
            "Requirement already satisfied: python-dateutil>=2.1 in /usr/local/lib/python3.7/dist-packages (from matplotlib>=3.0.0->rdtools) (2.8.2)\n",
            "Requirement already satisfied: typing-extensions in /usr/local/lib/python3.7/dist-packages (from kiwisolver>=1.0.1->matplotlib>=3.0.0->rdtools) (4.2.0)\n",
            "Requirement already satisfied: pytz>=2017.3 in /usr/local/lib/python3.7/dist-packages (from pandas!=0.24.0,!=1.0.0,!=1.0.1,>=0.23.2->rdtools) (2022.1)\n",
            "Requirement already satisfied: six in /usr/local/lib/python3.7/dist-packages (from plotly>=4.0.0->rdtools) (1.15.0)\n",
            "Requirement already satisfied: tenacity>=6.2.0 in /usr/local/lib/python3.7/dist-packages (from plotly>=4.0.0->rdtools) (8.0.1)\n",
            "Requirement already satisfied: requests in /usr/local/lib/python3.7/dist-packages (from pvlib<0.10.0,>=0.7.0->rdtools) (2.23.0)\n",
            "Requirement already satisfied: threadpoolctl>=2.0.0 in /usr/local/lib/python3.7/dist-packages (from scikit-learn>=0.22.0->rdtools) (3.1.0)\n",
            "Requirement already satisfied: joblib>=0.11 in /usr/local/lib/python3.7/dist-packages (from scikit-learn>=0.22.0->rdtools) (1.1.0)\n",
            "Requirement already satisfied: patsy>=0.4.0 in /usr/local/lib/python3.7/dist-packages (from statsmodels>=0.9.0->rdtools) (0.5.2)\n",
            "Requirement already satisfied: idna<3,>=2.5 in /usr/local/lib/python3.7/dist-packages (from requests->pvlib<0.10.0,>=0.7.0->rdtools) (2.10)\n",
            "Requirement already satisfied: chardet<4,>=3.0.2 in /usr/local/lib/python3.7/dist-packages (from requests->pvlib<0.10.0,>=0.7.0->rdtools) (3.0.4)\n",
            "Requirement already satisfied: certifi>=2017.4.17 in /usr/local/lib/python3.7/dist-packages (from requests->pvlib<0.10.0,>=0.7.0->rdtools) (2021.10.8)\n",
            "Requirement already satisfied: urllib3!=1.25.0,!=1.25.1,<1.26,>=1.21.1 in /usr/local/lib/python3.7/dist-packages (from requests->pvlib<0.10.0,>=0.7.0->rdtools) (1.24.3)\n",
            "Installing collected packages: xgboost, rdtools\n",
            "  Attempting uninstall: xgboost\n",
            "    Found existing installation: xgboost 0.90\n",
            "    Uninstalling xgboost-0.90:\n",
            "      Successfully uninstalled xgboost-0.90\n",
            "Successfully installed rdtools-2.1.3 xgboost-1.6.1\n"
          ]
        }
      ]
    },
    {
      "cell_type": "code",
      "source": [
        "#Imports\n",
        "import sys\n",
        "import os\n",
        "import traceback\n",
        "import time\n",
        "import signal\n",
        "import fcntl\n",
        "import string\n",
        "import re\n",
        "import itertools\n",
        "\n",
        "import pytz\n",
        "import pvlib\n",
        "import numpy as np\n",
        "import pandas as pd\n",
        "import matplotlib as mpl\n",
        "import matplotlib.pyplot as plt\n",
        "import matplotlib.style\n",
        "import matplotlib.patches as mpatches\n",
        "from mpl_toolkits.mplot3d import Axes3D\n",
        "from mpl_toolkits.axes_grid1 import host_subplot\n",
        "import mpl_toolkits.axisartist as AA\n",
        "\n",
        "from time import sleep\n",
        "from datetime import datetime\n",
        "from io import StringIO\n",
        "from pvlib import solarposition\n",
        "from pvlib import pvsystem\n",
        "from pvlib import location\n",
        "from pvlib import clearsky, atmosphere, solarposition\n",
        "from pvlib.location import Location\n",
        "from pvlib import irradiance\n",
        "from pvlib import temperature\n",
        "from rdtools import get_clearsky_tamb"
      ],
      "metadata": {
        "id": "oSyaJIC-MdCU",
        "colab": {
          "base_uri": "https://localhost:8080/"
        },
        "outputId": "6cc3fd3a-60bc-4060-fe39-267a33725d64"
      },
      "execution_count": 3,
      "outputs": [
        {
          "output_type": "stream",
          "name": "stderr",
          "text": [
            "/usr/local/lib/python3.7/dist-packages/statsmodels/tools/_testing.py:19: FutureWarning: pandas.util.testing is deprecated. Use the functions in the public API at pandas.testing instead.\n",
            "  import pandas.util.testing as tm\n"
          ]
        }
      ]
    },
    {
      "cell_type": "code",
      "source": [
        "fig_size = plt.rcParams[\"figure.figsize\"]\n",
        "fig_size[0]=12\n",
        "fig_size[1]=8\n",
        "plt.rcParams[\"figure.figsize\"] = fig_size\n",
        "\n",
        "site_tz='America/Costa_Rica'\n",
        "site_lat = 9.84950\n",
        "site_lon = -83.91289\n",
        "site_name = 'Moren Centro de acondicionamiento Físico'\n",
        "site_alt = 1425\n",
        "\n",
        "glosario = {\n",
        "      'sapm':'Sandia PV Array Performance Model',\n",
        "      'sam':'System Advisor Model',\n",
        "      'tmy':'Typical Meteorological Year Data',\n",
        "      'ghi':'Radiación global Horizontal', \n",
        "      'dni':'Radiación directa', \n",
        "      'dhi':'Radiación difusa', \n",
        "      'IR(h)':'Índice de claridad', \n",
        "      'aoi':'Ángulo de incidencia', \n",
        "      'dni_extra':'Porcentaje de radiación extra',\n",
        "      'POA':'Plane of Array'\n",
        "      }\n",
        "\n",
        "#Get modules & inverters\n",
        "sandia_modules = pvlib.pvsystem.retrieve_sam('SandiaMod')\n",
        "sapm_inverters = pvlib.pvsystem.retrieve_sam('CECInverter')\n",
        "\n",
        "module = (sandia_modules['Canadian_Solar_CS5P_220M___2009_'])\n",
        "inverter = sapm_inverters['ABB__MICRO_0_25_I_OUTD_US_208__208V_']\n",
        "temperature_model_parameters = pvlib.temperature.TEMPERATURE_MODEL_PARAMETERS['sapm']['open_rack_glass_glass']\n",
        "\n",
        "tmys = []\n",
        "selected_months = []\n",
        "\n",
        "coordinates = [\n",
        "               (site_lat,site_lon,site_name,site_alt,site_tz)\n",
        "]"
      ],
      "metadata": {
        "id": "jbVYNn7nOYrB"
      },
      "execution_count": 4,
      "outputs": []
    },
    {
      "cell_type": "code",
      "source": [
        "def get_pvgis_tmy_from_coordinates(coordinates):\n",
        "  tmys = []\n",
        "  months = []\n",
        "  for location in coordinates:\n",
        "    latitude, longitude, name, altitude, timezone = location\n",
        "    data_frame = pvlib.iotools.get_pvgis_tmy(latitude,longitude,map_variables=True)\n",
        "    weather = data_frame[0]\n",
        "    weather.index.name = 'utc_time'\n",
        "    tmys.append(weather)\n",
        "    months = data_frame[1]\n",
        "  return tmys, months\n",
        "tmys,selected_months = get_pvgis_tmy_from_coordinates(coordinates)"
      ],
      "metadata": {
        "id": "cZIu-DIwD6uB"
      },
      "execution_count": 5,
      "outputs": []
    },
    {
      "cell_type": "code",
      "source": [
        "#Para realizar el cálculo del ángulo de inclinación óptima\n",
        "system = {'module':module, 'inversor':inverter, 'surface_azimuth':180}\n",
        "azimuth_testing = [0,90,180,270]\n",
        "tilt_testing = [5,10,15]\n",
        "energies = {}\n",
        "monthly_energy = {}\n",
        "last_ac = pd.DataFrame()\n",
        "for tilt_angle in tilt_testing:\n",
        "  for azimuth_angle in azimuth_testing:\n",
        "    for weather in tmys:\n",
        "        location = coordinates[0]\n",
        "        latitude, longitude, name, altitude, timezone = location\n",
        "        system['surface_tilt']=tilt_angle\n",
        "        system['surface_azimuth']=azimuth_angle\n",
        "        solpos = pvlib.solarposition.get_solarposition(\n",
        "            time=weather.index,\n",
        "            latitude=latitude,\n",
        "            longitude=longitude,\n",
        "            altitude=altitude,\n",
        "            temperature=weather['temp_air'],\n",
        "            pressure=pvlib.atmosphere.alt2pres(altitude)\n",
        "        )\n",
        "        dni_extra = pvlib.irradiance.get_extra_radiation(weather.index)\n",
        "        airmass = pvlib.atmosphere.get_relative_airmass(solpos['apparent_zenith'])\n",
        "        pressure = pvlib.atmosphere.alt2pres(altitude)\n",
        "        am_abs = pvlib.atmosphere.get_absolute_airmass(airmass,pressure)\n",
        "        aoi = pvlib.irradiance.aoi(\n",
        "            system['surface_tilt'],\n",
        "            system['surface_azimuth'],\n",
        "            solpos['apparent_zenith'],\n",
        "            solpos['azimuth']\n",
        "        )\n",
        "        #Irradiación total general\n",
        "        total_irradiance = pvlib.irradiance.get_total_irradiance(\n",
        "          system['surface_tilt'],\n",
        "          system['surface_azimuth'],\n",
        "          solpos['apparent_zenith'],\n",
        "          solpos['azimuth'],\n",
        "          weather['dni'],\n",
        "          weather['ghi'],\n",
        "          weather['dhi'],\n",
        "          dni_extra=dni_extra,\n",
        "          model='haydavies'\n",
        "        )\n",
        "        cell_temperature = pvlib.temperature.sapm_cell(\n",
        "          total_irradiance['poa_global'],\n",
        "          weather['temp_air'],\n",
        "          weather['wind_speed'],\n",
        "          **temperature_model_parameters     \n",
        "        )\n",
        "        #Irradiación efectiva\n",
        "        effective_irradiance = pvlib.pvsystem.sapm_effective_irradiance(\n",
        "          total_irradiance['poa_direct'],\n",
        "          total_irradiance['poa_diffuse'],\n",
        "          am_abs,\n",
        "          aoi,\n",
        "          module\n",
        "        )  \n",
        "        dc=pvlib.pvsystem.sapm(effective_irradiance,cell_temperature,module)\n",
        "        ac=pvlib.inverter.sandia(dc['v_mp'],dc['p_mp'],inverter)\n",
        "        last_ac = ac\n",
        "        annual_energy = ac.sum()\n",
        "        label = str(tilt_angle) + \"º & \" + str(azimuth_angle) + \"Azi\"\n",
        "        monthly_energy[label] = ac\n",
        "        energies[label] = annual_energy"
      ],
      "metadata": {
        "id": "zFYkCXIEJzuB"
      },
      "execution_count": 6,
      "outputs": []
    },
    {
      "cell_type": "code",
      "source": [
        "#print(last_ac.keys())\n",
        "print(\"###################\")\n",
        "date_min = datetime.strptime(\"2005-01-01 00:00:00+00:00\",\"%Y-%m-%d %H:%M:%S%z\")\n",
        "date_max = datetime.strptime(\"2005-01-30 00:00:00+00:00\",\"%Y-%m-%d %H:%M:%S%z\")\n",
        "#x = last_ac.where(last_ac.keys() < \"2005-01-30 00:00:00+00:00\")\n",
        "#x = last_ac.between_time('00:00', '01:00') #Works but not to much\n",
        "#x = last_ac.loc['2005-01-01':'2005-01-02'] #Working perfectly <--------------------\n",
        "estudio_por_mes = {}\n",
        "for i in selected_months:\n",
        "  this_year = i['year']\n",
        "  this_month = i['month']\n",
        "  mes = str(this_year) + '-' + str(this_month) + '-01'\n",
        "  x = last_ac.loc[mes:mes]\n",
        "  sumatoria = x.sum()\n",
        "  estudio_por_mes[mes] = float(sumatoria)\n",
        "\n",
        "estudio_por_mes = pd.Series(estudio_por_mes)\n",
        "estudio_por_mes.plot(kind='bar', rot=0)\n",
        "plt.ylabel('Energía KWh para un ángulo de inclinación y azimuth determinado')\n",
        "plt.xlabel('Mes escogido por el sistema para el estudio')\n",
        "plt.show()"
      ],
      "metadata": {
        "colab": {
          "base_uri": "https://localhost:8080/",
          "height": 514
        },
        "id": "mmr80El_LQC2",
        "outputId": "5214d429-b079-4c96-cf03-c35f71496230"
      },
      "execution_count": 59,
      "outputs": [
        {
          "output_type": "stream",
          "name": "stdout",
          "text": [
            "###################\n"
          ]
        },
        {
          "output_type": "display_data",
          "data": {
            "text/plain": [
              "<Figure size 864x576 with 1 Axes>"
            ],
            "image/png": "[encoded data removed]"
          },
          "metadata": {
            "needs_background": "light"
          }
        }
      ]
    }
  ]
}