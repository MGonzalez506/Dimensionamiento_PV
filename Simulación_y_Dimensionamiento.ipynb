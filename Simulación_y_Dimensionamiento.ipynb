{
  "nbformat": 4,
  "nbformat_minor": 0,
  "metadata": {
    "colab": {
      "name": "Simulación_y_Dimensionamiento.ipynb",
      "provenance": [],
      "collapsed_sections": [],
      "include_colab_link": true
    },
    "kernelspec": {
      "name": "python3",
      "display_name": "Python 3"
    },
    "language_info": {
      "name": "python"
    }
  },
  "cells": [
    {
      "cell_type": "markdown",
      "metadata": {
        "id": "view-in-github",
        "colab_type": "text"
      },
      "source": [
        "<a href=\"https://colab.research.google.com/github/MGonzalez506/Dimensionamiento_PV/blob/13-estimar-el-rendimiento-energ%C3%A9tico-del-sistema/Simulaci%C3%B3n_y_Dimensionamiento.ipynb\" target=\"_parent\"><img src=\"https://colab.research.google.com/assets/colab-badge.svg\" alt=\"Open In Colab\"/></a>"
      ]
    },
    {
      "cell_type": "markdown",
      "source": [
        "##Taller PVLIB"
      ],
      "metadata": {
        "id": "NVhp45XNLvcV"
      }
    },
    {
      "cell_type": "code",
      "source": [
        "!pip install pvlib\n",
        "!pip install rdtools"
      ],
      "metadata": {
        "id": "bb6vVVLxL6uC",
        "outputId": "c8337ad4-a5a5-4b87-ee05-fc6e8c6ac49a",
        "colab": {
          "base_uri": "https://localhost:8080/"
        }
      },
      "execution_count": 9,
      "outputs": [
        {
          "output_type": "stream",
          "name": "stdout",
          "text": [
            "Requirement already satisfied: pvlib in /usr/local/lib/python3.7/dist-packages (0.9.1)\n",
            "Requirement already satisfied: numpy>=1.16.0 in /usr/local/lib/python3.7/dist-packages (from pvlib) (1.21.6)\n",
            "Requirement already satisfied: requests in /usr/local/lib/python3.7/dist-packages (from pvlib) (2.23.0)\n",
            "Requirement already satisfied: h5py in /usr/local/lib/python3.7/dist-packages (from pvlib) (3.1.0)\n",
            "Requirement already satisfied: pytz in /usr/local/lib/python3.7/dist-packages (from pvlib) (2022.1)\n",
            "Requirement already satisfied: scipy>=1.2.0 in /usr/local/lib/python3.7/dist-packages (from pvlib) (1.4.1)\n",
            "Requirement already satisfied: pandas>=0.22.0 in /usr/local/lib/python3.7/dist-packages (from pvlib) (1.3.5)\n",
            "Requirement already satisfied: python-dateutil>=2.7.3 in /usr/local/lib/python3.7/dist-packages (from pandas>=0.22.0->pvlib) (2.8.2)\n",
            "Requirement already satisfied: six>=1.5 in /usr/local/lib/python3.7/dist-packages (from python-dateutil>=2.7.3->pandas>=0.22.0->pvlib) (1.15.0)\n",
            "Requirement already satisfied: cached-property in /usr/local/lib/python3.7/dist-packages (from h5py->pvlib) (1.5.2)\n",
            "Requirement already satisfied: certifi>=2017.4.17 in /usr/local/lib/python3.7/dist-packages (from requests->pvlib) (2021.10.8)\n",
            "Requirement already satisfied: chardet<4,>=3.0.2 in /usr/local/lib/python3.7/dist-packages (from requests->pvlib) (3.0.4)\n",
            "Requirement already satisfied: urllib3!=1.25.0,!=1.25.1,<1.26,>=1.21.1 in /usr/local/lib/python3.7/dist-packages (from requests->pvlib) (1.24.3)\n",
            "Requirement already satisfied: idna<3,>=2.5 in /usr/local/lib/python3.7/dist-packages (from requests->pvlib) (2.10)\n",
            "Requirement already satisfied: rdtools in /usr/local/lib/python3.7/dist-packages (2.1.3)\n",
            "Requirement already satisfied: plotly>=4.0.0 in /usr/local/lib/python3.7/dist-packages (from rdtools) (5.5.0)\n",
            "Requirement already satisfied: statsmodels>=0.9.0 in /usr/local/lib/python3.7/dist-packages (from rdtools) (0.10.2)\n",
            "Requirement already satisfied: scipy>=1.1.0 in /usr/local/lib/python3.7/dist-packages (from rdtools) (1.4.1)\n",
            "Requirement already satisfied: pandas!=0.24.0,!=1.0.0,!=1.0.1,>=0.23.2 in /usr/local/lib/python3.7/dist-packages (from rdtools) (1.3.5)\n",
            "Requirement already satisfied: xgboost>=1.3.3 in /usr/local/lib/python3.7/dist-packages (from rdtools) (1.6.1)\n",
            "Requirement already satisfied: h5py>=2.8.0 in /usr/local/lib/python3.7/dist-packages (from rdtools) (3.1.0)\n",
            "Requirement already satisfied: pvlib<0.10.0,>=0.7.0 in /usr/local/lib/python3.7/dist-packages (from rdtools) (0.9.1)\n",
            "Requirement already satisfied: matplotlib>=3.0.0 in /usr/local/lib/python3.7/dist-packages (from rdtools) (3.2.2)\n",
            "Requirement already satisfied: numpy>=1.15 in /usr/local/lib/python3.7/dist-packages (from rdtools) (1.21.6)\n",
            "Requirement already satisfied: scikit-learn>=0.22.0 in /usr/local/lib/python3.7/dist-packages (from rdtools) (1.0.2)\n",
            "Requirement already satisfied: cached-property in /usr/local/lib/python3.7/dist-packages (from h5py>=2.8.0->rdtools) (1.5.2)\n",
            "Requirement already satisfied: python-dateutil>=2.1 in /usr/local/lib/python3.7/dist-packages (from matplotlib>=3.0.0->rdtools) (2.8.2)\n",
            "Requirement already satisfied: cycler>=0.10 in /usr/local/lib/python3.7/dist-packages (from matplotlib>=3.0.0->rdtools) (0.11.0)\n",
            "Requirement already satisfied: kiwisolver>=1.0.1 in /usr/local/lib/python3.7/dist-packages (from matplotlib>=3.0.0->rdtools) (1.4.2)\n",
            "Requirement already satisfied: pyparsing!=2.0.4,!=2.1.2,!=2.1.6,>=2.0.1 in /usr/local/lib/python3.7/dist-packages (from matplotlib>=3.0.0->rdtools) (3.0.9)\n",
            "Requirement already satisfied: typing-extensions in /usr/local/lib/python3.7/dist-packages (from kiwisolver>=1.0.1->matplotlib>=3.0.0->rdtools) (4.2.0)\n",
            "Requirement already satisfied: pytz>=2017.3 in /usr/local/lib/python3.7/dist-packages (from pandas!=0.24.0,!=1.0.0,!=1.0.1,>=0.23.2->rdtools) (2022.1)\n",
            "Requirement already satisfied: six in /usr/local/lib/python3.7/dist-packages (from plotly>=4.0.0->rdtools) (1.15.0)\n",
            "Requirement already satisfied: tenacity>=6.2.0 in /usr/local/lib/python3.7/dist-packages (from plotly>=4.0.0->rdtools) (8.0.1)\n",
            "Requirement already satisfied: requests in /usr/local/lib/python3.7/dist-packages (from pvlib<0.10.0,>=0.7.0->rdtools) (2.23.0)\n",
            "Requirement already satisfied: threadpoolctl>=2.0.0 in /usr/local/lib/python3.7/dist-packages (from scikit-learn>=0.22.0->rdtools) (3.1.0)\n",
            "Requirement already satisfied: joblib>=0.11 in /usr/local/lib/python3.7/dist-packages (from scikit-learn>=0.22.0->rdtools) (1.1.0)\n",
            "Requirement already satisfied: patsy>=0.4.0 in /usr/local/lib/python3.7/dist-packages (from statsmodels>=0.9.0->rdtools) (0.5.2)\n",
            "Requirement already satisfied: urllib3!=1.25.0,!=1.25.1,<1.26,>=1.21.1 in /usr/local/lib/python3.7/dist-packages (from requests->pvlib<0.10.0,>=0.7.0->rdtools) (1.24.3)\n",
            "Requirement already satisfied: chardet<4,>=3.0.2 in /usr/local/lib/python3.7/dist-packages (from requests->pvlib<0.10.0,>=0.7.0->rdtools) (3.0.4)\n",
            "Requirement already satisfied: idna<3,>=2.5 in /usr/local/lib/python3.7/dist-packages (from requests->pvlib<0.10.0,>=0.7.0->rdtools) (2.10)\n",
            "Requirement already satisfied: certifi>=2017.4.17 in /usr/local/lib/python3.7/dist-packages (from requests->pvlib<0.10.0,>=0.7.0->rdtools) (2021.10.8)\n"
          ]
        }
      ]
    },
    {
      "cell_type": "code",
      "source": [
        "#Imports\n",
        "import sys\n",
        "import os\n",
        "import traceback\n",
        "import time\n",
        "import signal\n",
        "import fcntl\n",
        "import string\n",
        "import re\n",
        "import itertools\n",
        "\n",
        "import pytz\n",
        "import pvlib\n",
        "import numpy as np\n",
        "import pandas as pd\n",
        "import matplotlib as mpl\n",
        "import matplotlib.pyplot as plt\n",
        "import matplotlib.style\n",
        "import matplotlib.patches as mpatches\n",
        "from mpl_toolkits.mplot3d import Axes3D\n",
        "from mpl_toolkits.axes_grid1 import host_subplot\n",
        "import mpl_toolkits.axisartist as AA\n",
        "\n",
        "from time import sleep\n",
        "from datetime import datetime\n",
        "from io import StringIO\n",
        "from pvlib import solarposition\n",
        "from pvlib import pvsystem\n",
        "from pvlib import location\n",
        "from pvlib import clearsky, atmosphere, solarposition\n",
        "from pvlib.location import Location\n",
        "from pvlib import irradiance\n",
        "from pvlib import temperature\n",
        "from rdtools import get_clearsky_tamb"
      ],
      "metadata": {
        "id": "oSyaJIC-MdCU"
      },
      "execution_count": 10,
      "outputs": []
    },
    {
      "cell_type": "code",
      "source": [
        "fig_size = plt.rcParams[\"figure.figsize\"]\n",
        "fig_size[0]=12\n",
        "fig_size[1]=8\n",
        "plt.rcParams[\"figure.figsize\"] = fig_size\n",
        "\n",
        "site_tz='America/Costa_Rica'\n",
        "site_lat = 9.84950\n",
        "site_lon = -83.91289\n",
        "site_name = 'Moren Centro de acondicionamiento Físico'\n",
        "site_alt = 1425\n",
        "\n",
        "glosario = {\n",
        "      'sapm':'Sandia PV Array Performance Model',\n",
        "      'sam':'System Advisor Model',\n",
        "      'tmy':'Typical Meteorological Year Data',\n",
        "      'ghi':'Radiación global Horizontal', \n",
        "      'dni':'Radiación directa', \n",
        "      'dhi':'Radiación difusa', \n",
        "      'IR(h)':'Índice de claridad', \n",
        "      'aoi':'Ángulo de incidencia', \n",
        "      'dni_extra':'Porcentaje de radiación extra',\n",
        "      'POA':'Plane of Array'\n",
        "      }\n",
        "\n",
        "#Get modules & inverters\n",
        "sandia_modules = pvlib.pvsystem.retrieve_sam('SandiaMod')\n",
        "sapm_inverters = pvlib.pvsystem.retrieve_sam('CECInverter')\n",
        "\n",
        "module = (sandia_modules['Canadian_Solar_CS5P_220M___2009_'])\n",
        "inverter = sapm_inverters['ABB__MICRO_0_25_I_OUTD_US_208__208V_']\n",
        "temperature_model_parameters = pvlib.temperature.TEMPERATURE_MODEL_PARAMETERS['sapm']['open_rack_glass_glass']\n",
        "\n",
        "tmys = []\n",
        "selected_months = []\n",
        "\n",
        "coordinates = [\n",
        "               (site_lat,site_lon,site_name,site_alt,site_tz)\n",
        "]"
      ],
      "metadata": {
        "id": "jbVYNn7nOYrB"
      },
      "execution_count": 11,
      "outputs": []
    },
    {
      "cell_type": "code",
      "source": [
        "def get_pvgis_tmy_from_coordinates(coordinates):\n",
        "  tmys = []\n",
        "  months = []\n",
        "  for location in coordinates:\n",
        "    latitude, longitude, name, altitude, timezone = location\n",
        "    data_frame = pvlib.iotools.get_pvgis_tmy(latitude,longitude,map_variables=True)\n",
        "    weather = data_frame[0]\n",
        "    weather.index.name = 'utc_time'\n",
        "    tmys.append(weather)\n",
        "    months = data_frame[1]\n",
        "  return tmys, months\n",
        "tmys,selected_months = get_pvgis_tmy_from_coordinates(coordinates)"
      ],
      "metadata": {
        "id": "cZIu-DIwD6uB"
      },
      "execution_count": 12,
      "outputs": []
    },
    {
      "cell_type": "code",
      "source": [
        "#Para realizar el cálculo del ángulo de inclinación óptima\n",
        "system = {'module':module, 'inversor':inverter, 'surface_azimuth':180}\n",
        "azimuth_testing = [0,90,180,270]\n",
        "tilt_testing = [5,10,15]\n",
        "energies = {}\n",
        "selected_azimuth_angle = 180\n",
        "selected_tilt_angle = 15\n",
        "selected_data = pd.DataFrame()\n",
        "selected_data_annual_energy = {}\n",
        "for tilt_angle in tilt_testing:\n",
        "  for azimuth_angle in azimuth_testing:\n",
        "    for weather in tmys:\n",
        "        location = coordinates[0]\n",
        "        latitude, longitude, name, altitude, timezone = location\n",
        "        system['surface_tilt']=tilt_angle\n",
        "        system['surface_azimuth']=azimuth_angle\n",
        "        solpos = pvlib.solarposition.get_solarposition(\n",
        "            time=weather.index,\n",
        "            latitude=latitude,\n",
        "            longitude=longitude,\n",
        "            altitude=altitude,\n",
        "            temperature=weather['temp_air'],\n",
        "            pressure=pvlib.atmosphere.alt2pres(altitude)\n",
        "        )\n",
        "        dni_extra = pvlib.irradiance.get_extra_radiation(weather.index)\n",
        "        airmass = pvlib.atmosphere.get_relative_airmass(solpos['apparent_zenith'])\n",
        "        pressure = pvlib.atmosphere.alt2pres(altitude)\n",
        "        am_abs = pvlib.atmosphere.get_absolute_airmass(airmass,pressure)\n",
        "        aoi = pvlib.irradiance.aoi(\n",
        "            system['surface_tilt'],\n",
        "            system['surface_azimuth'],\n",
        "            solpos['apparent_zenith'],\n",
        "            solpos['azimuth']\n",
        "        )\n",
        "        #Irradiación total general\n",
        "        total_irradiance = pvlib.irradiance.get_total_irradiance(\n",
        "          system['surface_tilt'],\n",
        "          system['surface_azimuth'],\n",
        "          solpos['apparent_zenith'],\n",
        "          solpos['azimuth'],\n",
        "          weather['dni'],\n",
        "          weather['ghi'],\n",
        "          weather['dhi'],\n",
        "          dni_extra=dni_extra,\n",
        "          model='haydavies'\n",
        "        )\n",
        "        cell_temperature = pvlib.temperature.sapm_cell(\n",
        "          total_irradiance['poa_global'],\n",
        "          weather['temp_air'],\n",
        "          weather['wind_speed'],\n",
        "          **temperature_model_parameters     \n",
        "        )\n",
        "        #Irradiación efectiva\n",
        "        effective_irradiance = pvlib.pvsystem.sapm_effective_irradiance(\n",
        "          total_irradiance['poa_direct'],\n",
        "          total_irradiance['poa_diffuse'],\n",
        "          am_abs,\n",
        "          aoi,\n",
        "          module\n",
        "        )  \n",
        "        dc=pvlib.pvsystem.sapm(effective_irradiance,cell_temperature,module)\n",
        "        ac=pvlib.inverter.sandia(dc['v_mp'],dc['p_mp'],inverter)\n",
        "        annual_energy = ac.sum()\n",
        "        label = str(tilt_angle) + \"º & \" + str(azimuth_angle) + \"Azi\"\n",
        "        energies[label] = annual_energy\n",
        "        if selected_azimuth_angle == azimuth_angle and selected_tilt_angle == tilt_angle:\n",
        "          selected_data = ac\n",
        "          selected_data_annual_energy = annual_energy"
      ],
      "metadata": {
        "id": "zFYkCXIEJzuB"
      },
      "execution_count": 13,
      "outputs": []
    },
    {
      "cell_type": "code",
      "source": [
        "energies = pd.Series(energies)\n",
        "energies.plot(kind='bar',rot=0)\n",
        "plt.ylabel('Rendimiento energético anual(Wh)')\n",
        "plt.xlabel('Ángulo Azimutal')\n",
        "plt.show()"
      ],
      "metadata": {
        "colab": {
          "base_uri": "https://localhost:8080/",
          "height": 498
        },
        "id": "pPb-f-BiAL3l",
        "outputId": "b6d6b27e-058d-4649-be5d-ff21f6964639"
      },
      "execution_count": 14,
      "outputs": [
        {
          "output_type": "display_data",
          "data": {
            "text/plain": [
              "<Figure size 864x576 with 1 Axes>"
            ],
            "image/png": "[encoded data removed]"
          },
          "metadata": {
            "needs_background": "light"
          }
        }
      ]
    },
    {
      "cell_type": "code",
      "source": [
        "#print(last_ac.keys())\n",
        "estudio_por_mes = {}\n",
        "for i in selected_months:\n",
        "  this_year = i['year']\n",
        "  this_month = i['month']\n",
        "  mes = str(this_year) + '-' + str(this_month) + '-01'\n",
        "  x = selected_data.loc[mes:mes]\n",
        "  sumatoria = x.sum()\n",
        "  estudio_por_mes[mes] = float(sumatoria)"
      ],
      "metadata": {
        "id": "mmr80El_LQC2"
      },
      "execution_count": 15,
      "outputs": []
    },
    {
      "cell_type": "markdown",
      "source": [
        "## Gráfico comparativo producción mensual vs producción anual para un ángulo de 10º\n",
        "\n"
      ],
      "metadata": {
        "id": "fM5ISPUaO9dX"
      }
    },
    {
      "cell_type": "code",
      "source": [
        "estudio_por_mes = pd.Series(estudio_por_mes)\n",
        "#print(selected_data_annual_energy)\n",
        "\n",
        "labels = ['Ene', 'Feb', 'Mar', 'Abr', 'May', 'Jun', 'Jul', 'Ago', 'Set', 'Oct', 'Nov', 'Dic']\n",
        "#labels = estudio_por_mes.keys()\n",
        "x = np.arange(len(labels))\n",
        "width = 0.35\n",
        "\n",
        "fig, ax = plt.subplots()\n",
        "rect1 = ax.bar(x, estudio_por_mes, width, label='Mensual')\n",
        "\n",
        "ax.set_ylabel('Energía Wh')\n",
        "ax.set_title('Energía Wh producción mensual y anual para un ángulo azimutal de ' + str(selected_azimuth_angle) + 'º y un ángulo de inclinación de los paneles de ' + str(selected_tilt_angle) + 'º.\\nEl consumo anual para estos ángulos seleccionados es de: ' + str(selected_data_annual_energy.round(1)) + 'Wh')\n",
        "ax.set_xticks(x, labels)\n",
        "ax.legend()\n",
        "#ax.bar_label(rect1, paadding=3)\n",
        "fig.tight_layout()\n",
        "plt.show()\n",
        "\n",
        "print(\"\\n\\n\\n\\n====================================\\n\\n\\n\")\n",
        "print(module)\n",
        "print(\"\\n\\n\\n\\n====================================\\n\\n\\n\")\n",
        "print(inverter)"
      ],
      "metadata": {
        "colab": {
          "base_uri": "https://localhost:8080/",
          "height": 1000
        },
        "id": "xRbYWq2FPJxI",
        "outputId": "81b97225-c62e-43f9-b3c2-bbdcbccb2bc7"
      },
      "execution_count": 16,
      "outputs": [
        {
          "output_type": "stream",
          "name": "stderr",
          "text": [
            "/usr/local/lib/python3.7/dist-packages/ipykernel_launcher.py:14: MatplotlibDeprecationWarning: Passing the minor parameter of set_xticks() positionally is deprecated since Matplotlib 3.2; the parameter will become keyword-only two minor releases later.\n",
            "  \n"
          ]
        },
        {
          "output_type": "display_data",
          "data": {
            "text/plain": [
              "<Figure size 864x576 with 1 Axes>"
            ],
            "image/png": "[encoded data removed]"
          },
          "metadata": {
            "needs_background": "light"
          }
        },
        {
          "output_type": "stream",
          "name": "stdout",
          "text": [
            "\n",
            "\n",
            "\n",
            "\n",
            "====================================\n",
            "\n",
            "\n",
            "\n",
            "Vintage                                                          2009\n",
            "Area                                                            1.701\n",
            "Material                                                         c-Si\n",
            "Cells_in_Series                                                    96\n",
            "Parallel_Strings                                                    1\n",
            "Isco                                                          5.09115\n",
            "Voco                                                          59.2608\n",
            "Impo                                                          4.54629\n",
            "Vmpo                                                          48.3156\n",
            "Aisc                                                         0.000397\n",
            "Aimp                                                         0.000181\n",
            "C0                                                            1.01284\n",
            "C1                                                           -0.01284\n",
            "Bvoco                                                        -0.21696\n",
            "Mbvoc                                                               0\n",
            "Bvmpo                                                       -0.235488\n",
            "Mbvmp                                                               0\n",
            "N                                                              1.4032\n",
            "C2                                                           0.279317\n",
            "C3                                                           -7.24463\n",
            "A0                                                           0.928385\n",
            "A1                                                           0.068093\n",
            "A2                                                          -0.015774\n",
            "A3                                                           0.001661\n",
            "A4                                                          -0.000069\n",
            "B0                                                                  1\n",
            "B1                                                          -0.002438\n",
            "B2                                                            0.00031\n",
            "B3                                                          -0.000012\n",
            "B4                                                                0.0\n",
            "B5                                                               -0.0\n",
            "DTC                                                               3.0\n",
            "FD                                                                  1\n",
            "A                                                            -3.40641\n",
            "B                                                           -0.084208\n",
            "C4                                                           0.996446\n",
            "C5                                                           0.003554\n",
            "IXO                                                           4.97599\n",
            "IXXO                                                          3.18803\n",
            "C6                                                            1.15535\n",
            "C7                                                          -0.155353\n",
            "Notes               Source: Sandia National Laboratories Updated 9...\n",
            "Name: Canadian_Solar_CS5P_220M___2009_, dtype: object\n",
            "\n",
            "\n",
            "\n",
            "\n",
            "====================================\n",
            "\n",
            "\n",
            "\n",
            "Vac                          208\n",
            "Pso                     2.089607\n",
            "Paco                       250.0\n",
            "Pdco                  259.588593\n",
            "Vdco                        40.0\n",
            "C0                     -0.000041\n",
            "C1                     -0.000091\n",
            "C2                      0.000494\n",
            "C3                     -0.013171\n",
            "Pnt                        0.075\n",
            "Vdcmax                      50.0\n",
            "Idcmax                  6.489715\n",
            "Mppt_low                    30.0\n",
            "Mppt_high                   50.0\n",
            "CEC_Date                     NaN\n",
            "CEC_Type     Utility Interactive\n",
            "Name: ABB__MICRO_0_25_I_OUTD_US_208__208V_, dtype: object\n"
          ]
        }
      ]
    }
  ]
}